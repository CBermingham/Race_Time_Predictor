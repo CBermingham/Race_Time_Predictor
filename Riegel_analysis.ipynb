{
 "cells": [
  {
   "cell_type": "code",
   "execution_count": 88,
   "metadata": {
    "collapsed": true
   },
   "outputs": [],
   "source": [
    "import pandas as pd\n",
    "import numpy as np\n",
    "import matplotlib.pyplot as plt\n",
    "%matplotlib inline\n",
    "import math"
   ]
  },
  {
   "cell_type": "code",
   "execution_count": 166,
   "metadata": {
    "collapsed": true
   },
   "outputs": [],
   "source": [
    "# This function is the Riegel formula for predicting race time T2 over distance D2 \n",
    "# from a previous time T1 over a distance D1\n",
    "\n",
    "def Riegel(T1_sec, D1, D2):\n",
    "    T2_sec = (T1_sec) * (float(D2)/float(D1))*1.06\n",
    "    return T2_sec"
   ]
  },
  {
   "cell_type": "code",
   "execution_count": 224,
   "metadata": {
    "collapsed": false
   },
   "outputs": [
    {
     "name": "stdout",
     "output_type": "stream",
     "text": [
      "  60_PB 100_PB 200_PB 400_PB 600_PB   800_PB  1000_PB 1200_PB  1500_PB  \\\n",
      "0   NaN    NaN    NaN    NaN    NaN  2:04.00  2:40.87     NaN  4:06.69   \n",
      "1   NaN    NaN    NaN    NaN    NaN  2:12.22  2:57.73  3:57.7  4:03.74   \n",
      "2   NaN    NaN    NaN    NaN    NaN   2:12.7      NaN     NaN  4:09.16   \n",
      "3   NaN    NaN    NaN   66.3    NaN  2:10.25      NaN     NaN  4:15.93   \n",
      "4   NaN    NaN    NaN    NaN    NaN   2:17.5      NaN     NaN   4:44.8   \n",
      "\n",
      "    Mile_PB   ...    5000_2016 10000_2016 1M_2016 2M_2016 3K_2016 5K_2016  \\\n",
      "0  4:35.52i   ...      15:48.4   33:07.93     NaN     NaN    9:25   15:52   \n",
      "1       NaN   ...     15:05.00        NaN  4:25.6     NaN    9:23   15:57   \n",
      "2    4:46.9   ...     15:08.58        NaN     NaN     NaN    9:20     NaN   \n",
      "3  4:39.08i   ...     15:37.65   33:00.13     NaN     NaN     NaN   16:09   \n",
      "4       NaN   ...          NaN        NaN     NaN     NaN     NaN     NaN   \n",
      "\n",
      "  10K_2016 10M_2016 HM_2016 Mar_2016  \n",
      "0    31:46      NaN   73:25      NaN  \n",
      "1    32:30      NaN     NaN      NaN  \n",
      "2    32:35      NaN     NaN      NaN  \n",
      "3    32:35    57:39     NaN      NaN  \n",
      "4    32:41    53:57   72:19      NaN  \n",
      "\n",
      "[5 rows x 63 columns]\n"
     ]
    }
   ],
   "source": [
    "# Read the data into a pandas dataframe\n",
    "\n",
    "df = pd.read_csv('test_times_data_2016_women_10k.csv')\n",
    "print df.head()"
   ]
  },
  {
   "cell_type": "code",
   "execution_count": 216,
   "metadata": {
    "collapsed": false
   },
   "outputs": [],
   "source": [
    "# Convert the athlete's 5k and 10k times into seconds, removing those in both columns \n",
    "# where there is not a value for 5k (there is always a value for 10k)\n",
    "\n",
    "#athlete_5k = [int(float(str(i)[:2])*60 + float(str(i)[3:5])) for i in df['5K_2016'] if str(i) != 'nan']\n",
    "#athlete_10k = [int(float(str(df['10K_2016'][i])[:2])*60 + float(str(df['10K_2016'][i])[3:5])) for i in range(0, len(df['10K_2016'])) if str(df['5K_2016'][i]) != 'nan']\n",
    "\n",
    "athlete_HM = [int(float(str(i)[:2])*60 + float(str(i)[3:5])) for i in df['HM_2016'] if str(i) != 'nan']\n",
    "athlete_10k = [int(float(str(df['10K_2016'][i])[:2])*60 + float(str(df['10K_2016'][i])[3:5])) for i in range(0, len(df['10K_2016'])) if str(df['HM_2016'][i]) != 'nan']\n",
    "\n",
    "#athlete_10k = [int(float(str(i)[:2])*60 + float(str(i)[3:5])) for i in df['10K_2016'] if str(i) != 'nan']\n",
    "#athlete_HM = [int(float(str(df['HM_2016'][i])[:2])*60 + float(str(df['HM_2016'][i])[3:5])) for i in range(0, len(df['HM_2016'])) if str(df['10K_2016'][i]) != 'nan']"
   ]
  },
  {
   "cell_type": "code",
   "execution_count": 217,
   "metadata": {
    "collapsed": false
   },
   "outputs": [],
   "source": [
    "# Make an array for 5k times and calculate 10k times using the Riegel formula\n",
    "\n",
    "#time_5k = np.arange(15*60, 21*60, 10)\n",
    "#time_10k = [Riegel(i, 5, 10) for i in time_5k]\n",
    "\n",
    "time_HM = np.arange(60*60, 83*60, 10)\n",
    "time_10k = [Riegel(i, 21.0824064, 10) for i in time_HM]"
   ]
  },
  {
   "cell_type": "code",
   "execution_count": 218,
   "metadata": {
    "collapsed": false
   },
   "outputs": [
    {
     "data": {
      "text/plain": [
       "<matplotlib.collections.PathCollection at 0x10883bd10>"
      ]
     },
     "execution_count": 218,
     "metadata": {},
     "output_type": "execute_result"
    },
    {
     "data": {
      "image/png": "[encoded data removed]",
      "text/plain": [
       "<matplotlib.figure.Figure at 0x10881d550>"
      ]
     },
     "metadata": {},
     "output_type": "display_data"
    }
   ],
   "source": [
    "# Convert all times into minutes and plot both the model and the times\n",
    "\n",
    "#time_5k_mins = [i/60.0 for i in time_5k]\n",
    "time_HM_mins = [i/60.0 for i in time_HM]\n",
    "time_10k_mins = [i/60.0 for i in time_10k]\n",
    "#athlete_5k_mins = [i/60.0 for i in athlete_5k]\n",
    "athlete_HM_mins = [i/60.0 for i in athlete_HM]\n",
    "athlete_10k_mins = [i/60.0 for i in athlete_10k]\n",
    "#plt.plot(time_5k_mins, time_10k_mins)\n",
    "#plt.scatter(athlete_5k_mins, athlete_10k_mins)\n",
    "plt.plot(time_HM_mins, time_10k_mins)\n",
    "plt.scatter(athlete_HM_mins, athlete_10k_mins)"
   ]
  },
  {
   "cell_type": "code",
   "execution_count": null,
   "metadata": {
    "collapsed": true
   },
   "outputs": [],
   "source": []
  }
 ],
 "metadata": {
  "kernelspec": {
   "display_name": "Python 2",
   "language": "python",
   "name": "python2"
  },
  "language_info": {
   "codemirror_mode": {
    "name": "ipython",
    "version": 2
   },
   "file_extension": ".py",
   "mimetype": "text/x-python",
   "name": "python",
   "nbconvert_exporter": "python",
   "pygments_lexer": "ipython2",
   "version": "2.7.10"
  }
 },
 "nbformat": 4,
 "nbformat_minor": 1
}
